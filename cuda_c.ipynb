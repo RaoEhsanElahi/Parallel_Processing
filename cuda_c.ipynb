{
  "nbformat": 4,
  "nbformat_minor": 0,
  "metadata": {
    "colab": {
      "provenance": [],
      "gpuType": "T4",
      "authorship_tag": "ABX9TyMvqF0YmktzQd4lhbxXSUcn",
      "include_colab_link": true
    },
    "kernelspec": {
      "name": "python3",
      "display_name": "Python 3"
    },
    "language_info": {
      "name": "python"
    },
    "accelerator": "GPU"
  },
  "cells": [
    {
      "cell_type": "markdown",
      "metadata": {
        "id": "view-in-github",
        "colab_type": "text"
      },
      "source": [
        "<a href=\"https://colab.research.google.com/github/RaoEhsanElahi/Parallel_Processing/blob/main/cuda_c.ipynb\" target=\"_parent\"><img src=\"https://colab.research.google.com/assets/colab-badge.svg\" alt=\"Open In Colab\"/></a>"
      ]
    },
    {
      "cell_type": "code",
      "execution_count": 1,
      "metadata": {
        "colab": {
          "base_uri": "https://localhost:8080/"
        },
        "id": "OtOQTtXpDrL9",
        "outputId": "adcca0f6-f0eb-41f6-ee05-c581030c3d64"
      },
      "outputs": [
        {
          "output_type": "stream",
          "name": "stdout",
          "text": [
            "Collecting git+https://github.com/andreinechaev/nvcc4jupyter.git\n",
            "  Cloning https://github.com/andreinechaev/nvcc4jupyter.git to /tmp/pip-req-build-6jx4gnpk\n",
            "  Running command git clone --filter=blob:none --quiet https://github.com/andreinechaev/nvcc4jupyter.git /tmp/pip-req-build-6jx4gnpk\n",
            "  Resolved https://github.com/andreinechaev/nvcc4jupyter.git to commit 0a71d56e5dce3ff1f0dd2c47c29367629262f527\n",
            "  Preparing metadata (setup.py) ... \u001b[?25l\u001b[?25hdone\n",
            "Building wheels for collected packages: NVCCPlugin\n",
            "  Building wheel for NVCCPlugin (setup.py) ... \u001b[?25l\u001b[?25hdone\n",
            "  Created wheel for NVCCPlugin: filename=NVCCPlugin-0.0.2-py3-none-any.whl size=4293 sha256=2e118a53f7de5985522ca27a9ea611dd5d59f377a628fdb086220a5657434bc9\n",
            "  Stored in directory: /tmp/pip-ephem-wheel-cache-65hfkz2s/wheels/a8/b9/18/23f8ef71ceb0f63297dd1903aedd067e6243a68ea756d6feea\n",
            "Successfully built NVCCPlugin\n",
            "Installing collected packages: NVCCPlugin\n",
            "Successfully installed NVCCPlugin-0.0.2\n"
          ]
        }
      ],
      "source": [
        "!pip install git+https://github.com/andreinechaev/nvcc4jupyter.git"
      ]
    },
    {
      "cell_type": "code",
      "source": [
        "%load_ext nvcc_plugin\n"
      ],
      "metadata": {
        "colab": {
          "base_uri": "https://localhost:8080/"
        },
        "id": "tTASwBueIrqv",
        "outputId": "5e805446-10b0-4f5c-f8c9-5944f8058d15"
      },
      "execution_count": 2,
      "outputs": [
        {
          "output_type": "stream",
          "name": "stdout",
          "text": [
            "created output directory at /content/src\n",
            "Out bin /content/result.out\n"
          ]
        }
      ]
    },
    {
      "cell_type": "code",
      "source": [
        "%%cu\n",
        "#include <stdio.h>\n",
        "#include <cuda_runtime.h>\n",
        "\n",
        "__global__ void multiply(int **a, int **b, int **c, int N) {\n",
        "    int i = blockIdx.x * blockDim.x + threadIdx.x;\n",
        "    int j = blockIdx.y * blockDim.y + threadIdx.y;\n",
        "    if (i < N && j < N) {\n",
        "        int sum = 0;\n",
        "        for (int k = 0; k < N; k++) {\n",
        "            sum += a[i][k] * b[k][j];\n",
        "        }\n",
        "        c[i][j] = sum;\n",
        "    }\n",
        "}\n",
        "\n",
        "int main() {\n",
        "    int N = 512;\n",
        "    int **a = new int*[N];\n",
        "    int **b = new int*[N];\n",
        "    int **c = new int*[N];\n",
        "    for (int i = 0; i < N; i++) {\n",
        "        a[i] = new int[N];\n",
        "        b[i] = new int[N];\n",
        "        c[i] = new int[N];\n",
        "        for (int j = 0; j < N; j++) {\n",
        "            a[i][j] = i + j;\n",
        "            b[i][j] = i - j;\n",
        "        }\n",
        "    }\n",
        "\n",
        "    int blockSize = 16;\n",
        "    dim3 blockDim(blockSize, blockSize);\n",
        "    dim3 gridDim((N + blockSize - 1) / blockSize, (N + blockSize - 1) / blockSize);\n",
        "\n",
        "    cudaEvent_t start, stop;\n",
        "    cudaEventCreate(&start);\n",
        "    cudaEventCreate(&stop);\n",
        "    cudaEventRecord(start, 0);\n",
        "\n",
        "    multiply<<<gridDim, blockDim>>>(a, b, c, N);\n",
        "    cudaDeviceSynchronize();\n",
        "\n",
        "    cudaEventRecord(stop, 0);\n",
        "    cudaEventSynchronize(stop);\n",
        "    float milliseconds = 0;\n",
        "    cudaEventElapsedTime(&milliseconds, start, stop);\n",
        "    printf(\"GPU Time: %f ms\\n\", milliseconds);\n",
        "\n",
        "    for (int i = 0; i < N; i++) {\n",
        "      printf(\"\\n\");\n",
        "      for (int j = 0; j < N; j++) {\n",
        "          printf(\"%d\",c[i][j]);\n",
        "        }\n",
        "    }\n",
        "\n",
        "    return 0;\n",
        "}"
      ],
      "metadata": {
        "id": "oEtylh-1Irn9"
      },
      "execution_count": null,
      "outputs": []
    },
    {
      "cell_type": "markdown",
      "source": [
        "#Matrix Multiplication CPU vs CUDA"
      ],
      "metadata": {
        "id": "LPW5uX_xP7sy"
      }
    },
    {
      "cell_type": "code",
      "source": [
        "%%cu\n",
        "#include <stdio.h>\n",
        "#include <stdlib.h>\n",
        "#include <time.h>\n",
        "\n",
        "// Matrix multiplication without CUDA\n",
        "void matrix_multiply_cpu(float *a, float *b, float *result, int size) {\n",
        "    for (int i = 0; i < size; i++) {\n",
        "        for (int j = 0; j < size; j++) {\n",
        "            result[i * size + j] = 0;\n",
        "            for (int k = 0; k < size; k++) {\n",
        "                result[i * size + j] += a[i * size + k] * b[k * size + j];\n",
        "            }\n",
        "        }\n",
        "    }\n",
        "}\n",
        "\n",
        "// Matrix multiplication with CUDA\n",
        "__global__\n",
        "void matrix_multiply_cuda(float *a, float *b, float *result, int size) {\n",
        "    int row = blockIdx.y * blockDim.y + threadIdx.y;\n",
        "    int col = blockIdx.x * blockDim.x + threadIdx.x;\n",
        "\n",
        "    if (row < size && col < size) {\n",
        "        float value = 0.0f;\n",
        "        for (int k = 0; k < size; k++) {\n",
        "            value += a[row * size + k] * b[k * size + col];\n",
        "        }\n",
        "        result[row * size + col] = value;\n",
        "    }\n",
        "}\n",
        "\n",
        "int main() {\n",
        "    // Set the matrix dimensions\n",
        "    int matrix_size = 1000;\n",
        "\n",
        "    // Allocate memory for matrices\n",
        "    float *matrix_a, *matrix_b, *result_cpu, *result_cuda;\n",
        "    size_t matrix_bytes = matrix_size * matrix_size * sizeof(float);\n",
        "\n",
        "    matrix_a = (float *)malloc(matrix_bytes);\n",
        "    matrix_b = (float *)malloc(matrix_bytes);\n",
        "    result_cpu = (float *)malloc(matrix_bytes);\n",
        "    result_cuda = (float *)malloc(matrix_bytes);\n",
        "\n",
        "    // Initialize matrices with random values\n",
        "    srand(time(NULL));\n",
        "    for (int i = 0; i < matrix_size * matrix_size; i++) {\n",
        "        matrix_a[i] = (float)rand() / RAND_MAX;\n",
        "        matrix_b[i] = (float)rand() / RAND_MAX;\n",
        "    }\n",
        "\n",
        "    // Without CUDA\n",
        "    clock_t start_cpu = clock();\n",
        "    matrix_multiply_cpu(matrix_a, matrix_b, result_cpu, matrix_size);\n",
        "    clock_t end_cpu = clock();\n",
        "    double time_cpu = ((double)(end_cpu - start_cpu)) / CLOCKS_PER_SEC;\n",
        "\n",
        "    // With CUDA\n",
        "    float *dev_matrix_a, *dev_matrix_b, *dev_result_cuda;\n",
        "    cudaMalloc((void **)&dev_matrix_a, matrix_bytes);\n",
        "    cudaMalloc((void **)&dev_matrix_b, matrix_bytes);\n",
        "    cudaMalloc((void **)&dev_result_cuda, matrix_bytes);\n",
        "\n",
        "    cudaMemcpy(dev_matrix_a, matrix_a, matrix_bytes, cudaMemcpyHostToDevice);\n",
        "    cudaMemcpy(dev_matrix_b, matrix_b, matrix_bytes, cudaMemcpyHostToDevice);\n",
        "\n",
        "    dim3 threadsPerBlock(16, 16);\n",
        "    dim3 blocksPerGrid((matrix_size + threadsPerBlock.x - 1) / threadsPerBlock.x,\n",
        "                       (matrix_size + threadsPerBlock.y - 1) / threadsPerBlock.y);\n",
        "\n",
        "    clock_t start_cuda = clock();\n",
        "    matrix_multiply_cuda<<<blocksPerGrid, threadsPerBlock>>>(dev_matrix_a, dev_matrix_b, dev_result_cuda, matrix_size);\n",
        "    cudaDeviceSynchronize();\n",
        "    clock_t end_cuda = clock();\n",
        "    double time_cuda = ((double)(end_cuda - start_cuda)) / CLOCKS_PER_SEC;\n",
        "\n",
        "    cudaMemcpy(result_cuda, dev_result_cuda, matrix_bytes, cudaMemcpyDeviceToHost);\n",
        "\n",
        "    // Print execution times\n",
        "    printf(\"Time without CUDA: %f seconds\\n\", time_cpu);\n",
        "    printf(\"Time with CUDA: %f seconds\\n\", time_cuda);\n",
        "\n",
        "    // Cleanup\n",
        "    free(matrix_a);\n",
        "    free(matrix_b);\n",
        "    free(result_cpu);\n",
        "    free(result_cuda);\n",
        "    cudaFree(dev_matrix_a);\n",
        "    cudaFree(dev_matrix_b);\n",
        "    cudaFree(dev_result_cuda);\n",
        "\n",
        "    return 0;\n",
        "}\n"
      ],
      "metadata": {
        "colab": {
          "base_uri": "https://localhost:8080/"
        },
        "id": "lYPzQVkDKvAT",
        "outputId": "83f5b394-678c-411f-9da2-93c9cfca7779"
      },
      "execution_count": 5,
      "outputs": [
        {
          "output_type": "stream",
          "name": "stdout",
          "text": [
            "Time without CUDA: 8.382830 seconds\n",
            "Time with CUDA: 0.064097 seconds\n",
            "\n"
          ]
        }
      ]
    },
    {
      "cell_type": "markdown",
      "source": [
        "# **Vector** Addition"
      ],
      "metadata": {
        "id": "YUeicZlfRvJ-"
      }
    },
    {
      "cell_type": "code",
      "source": [
        "%%cu\n",
        "#include <stdio.h>\n",
        "\n",
        "__global__\n",
        "void vectorAddition(int *a, int *b, int *c, int size) {\n",
        "    int idx = blockIdx.x * blockDim.x + threadIdx.x;\n",
        "    if (idx < size) {\n",
        "        c[idx] = a[idx] + b[idx];\n",
        "    }\n",
        "}\n",
        "\n",
        "int main() {\n",
        "    const int size = 1024;  // Adjust the size as needed\n",
        "    const int block_size = 256;\n",
        "\n",
        "    // Host arrays\n",
        "    int *h_a, *h_b, *h_c;\n",
        "    h_a = (int *)malloc(size * sizeof(int));\n",
        "    h_b = (int *)malloc(size * sizeof(int));\n",
        "    h_c = (int *)malloc(size * sizeof(int));\n",
        "\n",
        "    // Initialize host arrays\n",
        "    for (int i = 0; i < size; i++) {\n",
        "        h_a[i] = i;\n",
        "        h_b[i] = i * 2;\n",
        "    }\n",
        "\n",
        "    // Device arrays\n",
        "    int *d_a, *d_b, *d_c;\n",
        "    cudaMalloc((void **)&d_a, size * sizeof(int));\n",
        "    cudaMalloc((void **)&d_b, size * sizeof(int));\n",
        "    cudaMalloc((void **)&d_c, size * sizeof(int));\n",
        "\n",
        "    // Copy data from host to device\n",
        "    cudaMemcpy(d_a, h_a, size * sizeof(int), cudaMemcpyHostToDevice);\n",
        "    cudaMemcpy(d_b, h_b, size * sizeof(int), cudaMemcpyHostToDevice);\n",
        "\n",
        "    // Launch kernel\n",
        "    vectorAddition<<<(size + block_size - 1) / block_size, block_size>>>(d_a, d_b, d_c, size);\n",
        "\n",
        "    // Copy result from device to host\n",
        "    cudaMemcpy(h_c, d_c, size * sizeof(int), cudaMemcpyDeviceToHost);\n",
        "\n",
        "    // Print result\n",
        "    for (int i = 0; i < size; i++) {\n",
        "        printf(\"%d + %d = %d\\n\", h_a[i], h_b[i], h_c[i]);\n",
        "    }\n",
        "\n",
        "    // Cleanup\n",
        "    free(h_a);\n",
        "    free(h_b);\n",
        "    free(h_c);\n",
        "    cudaFree(d_a);\n",
        "    cudaFree(d_b);\n",
        "    cudaFree(d_c);\n",
        "\n",
        "    return 0;\n",
        "}\n"
      ],
      "metadata": {
        "id": "8lPUvq-lR6Ts"
      },
      "execution_count": null,
      "outputs": []
    },
    {
      "cell_type": "markdown",
      "source": [
        "#Simple Matrix Multiplication"
      ],
      "metadata": {
        "id": "OHoe_0qmSYAn"
      }
    },
    {
      "cell_type": "code",
      "source": [
        "%%cu\n",
        "#include <stdio.h>\n",
        "\n",
        "#define N 4\n",
        "\n",
        "__global__\n",
        "void matrixMultiply(int *a, int *b, int *c) {\n",
        "    int row = blockIdx.y * blockDim.y + threadIdx.y;\n",
        "    int col = blockIdx.x * blockDim.x + threadIdx.x;\n",
        "\n",
        "    if (row < N && col < N) {\n",
        "        int sum = 0;\n",
        "        for (int i = 0; i < N; i++) {\n",
        "            sum += a[row * N + i] * b[i * N + col];\n",
        "        }\n",
        "        c[row * N + col] = sum;\n",
        "    }\n",
        "}\n",
        "\n",
        "int main() {\n",
        "    const int size = N * N;\n",
        "    const int block_size = 2;\n",
        "\n",
        "    // Host arrays\n",
        "    int h_a[size], h_b[size], h_c[size];\n",
        "\n",
        "    // Initialize host arrays\n",
        "    for (int i = 0; i < size; i++) {\n",
        "        h_a[i] = i;\n",
        "        h_b[i] = i * 2;\n",
        "    }\n",
        "\n",
        "    // Device arrays\n",
        "    int *d_a, *d_b, *d_c;\n",
        "    cudaMalloc((void **)&d_a, size * sizeof(int));\n",
        "    cudaMalloc((void **)&d_b, size * sizeof(int));\n",
        "    cudaMalloc((void **)&d_c, size * sizeof(int));\n",
        "\n",
        "    // Copy data from host to device\n",
        "    cudaMemcpy(d_a, h_a, size * sizeof(int), cudaMemcpyHostToDevice);\n",
        "    cudaMemcpy(d_b, h_b, size * sizeof(int), cudaMemcpyHostToDevice);\n",
        "\n",
        "    // Launch kernel\n",
        "    dim3 threadsPerBlock(block_size, block_size);\n",
        "    dim3 blocksPerGrid((N + block_size - 1) / block_size, (N + block_size - 1) / block_size);\n",
        "    matrixMultiply<<<blocksPerGrid, threadsPerBlock>>>(d_a, d_b, d_c);\n",
        "\n",
        "    // Copy result from device to host\n",
        "    cudaMemcpy(h_c, d_c, size * sizeof(int), cudaMemcpyDeviceToHost);\n",
        "\n",
        "    // Print result\n",
        "    for (int i = 0; i < N; i++) {\n",
        "        for (int j = 0; j < N; j++) {\n",
        "            printf(\"%d\\t\", h_c[i * N + j]);\n",
        "        }\n",
        "        printf(\"\\n\");\n",
        "    }\n",
        "\n",
        "    // Cleanup\n",
        "    cudaFree(d_a);\n",
        "    cudaFree(d_b);\n",
        "    cudaFree(d_c);\n",
        "\n",
        "    return 0;\n",
        "}\n"
      ],
      "metadata": {
        "colab": {
          "base_uri": "https://localhost:8080/"
        },
        "id": "7OOiceOiSEEa",
        "outputId": "69fd892f-d49f-4607-ce65-dd6e28921e47"
      },
      "execution_count": 9,
      "outputs": [
        {
          "output_type": "stream",
          "name": "stdout",
          "text": [
            "112\t124\t136\t148\t\n",
            "304\t348\t392\t436\t\n",
            "496\t572\t648\t724\t\n",
            "688\t796\t904\t1012\t\n",
            "\n"
          ]
        }
      ]
    },
    {
      "cell_type": "code",
      "source": [],
      "metadata": {
        "id": "sKZ_L9gYScdv"
      },
      "execution_count": null,
      "outputs": []
    }
  ]
}