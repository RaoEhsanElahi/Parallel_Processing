{
  "nbformat": 4,
  "nbformat_minor": 0,
  "metadata": {
    "colab": {
      "provenance": [],
      "gpuType": "T4",
      "authorship_tag": "ABX9TyMRe2NiEMuz7eYjdjfQnm+A",
      "include_colab_link": true
    },
    "kernelspec": {
      "name": "python3",
      "display_name": "Python 3"
    },
    "language_info": {
      "name": "python"
    },
    "accelerator": "GPU"
  },
  "cells": [
    {
      "cell_type": "markdown",
      "metadata": {
        "id": "view-in-github",
        "colab_type": "text"
      },
      "source": [
        "<a href=\"https://colab.research.google.com/github/RaoEhsanElahi/Parallel_Processing/blob/main/MPI.ipynb\" target=\"_parent\"><img src=\"https://colab.research.google.com/assets/colab-badge.svg\" alt=\"Open In Colab\"/></a>"
      ]
    },
    {
      "cell_type": "code",
      "source": [
        "!apt-get install -y mpich\n",
        "!pip install mpi4py\n"
      ],
      "metadata": {
        "id": "iYg-0hTv3NHX"
      },
      "execution_count": null,
      "outputs": []
    },
    {
      "cell_type": "code",
      "source": [
        "!pip install git+https://github.com/andreinechaev/nvcc4jupyter.git"
      ],
      "metadata": {
        "colab": {
          "base_uri": "https://localhost:8080/"
        },
        "id": "ZFqZoW2n4ww2",
        "outputId": "2b805119-e35f-454a-8e43-04b682d7a6c6"
      },
      "execution_count": 18,
      "outputs": [
        {
          "output_type": "stream",
          "name": "stdout",
          "text": [
            "Collecting git+https://github.com/andreinechaev/nvcc4jupyter.git\n",
            "  Cloning https://github.com/andreinechaev/nvcc4jupyter.git to /tmp/pip-req-build-_skxmte6\n",
            "  Running command git clone --filter=blob:none --quiet https://github.com/andreinechaev/nvcc4jupyter.git /tmp/pip-req-build-_skxmte6\n",
            "  Resolved https://github.com/andreinechaev/nvcc4jupyter.git to commit 0a71d56e5dce3ff1f0dd2c47c29367629262f527\n",
            "  Preparing metadata (setup.py) ... \u001b[?25l\u001b[?25hdone\n"
          ]
        }
      ]
    },
    {
      "cell_type": "markdown",
      "source": [
        "## Task 1: Scatter and gathera 3x3 Matrix\n",
        "####1.Generate a random 3x3 matrix on the master process.\n",
        "####2.Scatter the rows of the matrix among MPI processes.\n",
        "####3.Each process receives a subset of rows.\n",
        "####4.Gather the results back to the master process.\n",
        "####5.Verify that the gathered matrix is the same as the original matrix."
      ],
      "metadata": {
        "id": "lecCLOqrI7I6"
      }
    },
    {
      "cell_type": "code",
      "source": [
        "#%%writefile mpi-task1.py\n",
        "from mpi4py import MPI\n",
        "import numpy as np\n",
        "\n",
        "MATRIX_SIZE = 3\n",
        "\n",
        "comm = MPI.COMM_WORLD\n",
        "rank = comm.Get_rank()\n",
        "size = comm.Get_size()\n",
        "\n",
        "    # Master-process: generates a random matrix\n",
        "if rank == 0:\n",
        "    original_matrix = np.random.rand(MATRIX_SIZE, MATRIX_SIZE)\n",
        "    print(\"Original matrix (rank 0):\")\n",
        "    print(original_matrix)\n",
        "else:\n",
        "    original_matrix = None\n",
        "\n",
        "    # Scatter rows to all processes\n",
        "local_rows = np.empty((MATRIX_SIZE // size, MATRIX_SIZE), dtype=np.float64)\n",
        "comm.Scatter(original_matrix, local_rows, root=0)\n",
        "\n",
        "print(f\"Local rows on rank {rank}:\")\n",
        "print(local_rows)\n",
        "\n",
        "    # Gather rows back to the master-process\n",
        "gathered_matrix = None\n",
        "if rank == 0:\n",
        "    gathered_matrix = np.empty((MATRIX_SIZE, MATRIX_SIZE), dtype=np.float64)\n",
        "\n",
        "comm.Gather(local_rows, gathered_matrix, root=0)\n",
        "\n",
        "    # Print verification results.\n",
        "if rank == 0:\n",
        "    match = np.array_equal(original_matrix, gathered_matrix)\n",
        "    print(\"Gathered matrix (rank 0):\")\n",
        "    print(gathered_matrix)\n",
        "\n",
        "    if match:\n",
        "        print(\"Gathered matrix == original matrix.\")\n",
        "    else:\n",
        "        print(\"Gathered matrix != original matrix.\")\n"
      ],
      "metadata": {
        "colab": {
          "base_uri": "https://localhost:8080/"
        },
        "id": "OGR7uhavFgq8",
        "outputId": "d31b3ec9-b9be-47c6-8a08-d504dbc85b2f"
      },
      "execution_count": 31,
      "outputs": [
        {
          "output_type": "stream",
          "name": "stdout",
          "text": [
            "Original matrix (rank 0):\n",
            "[[0.71720376 0.14841768 0.62912215]\n",
            " [0.04950821 0.59649635 0.50013654]\n",
            " [0.03968691 0.68583757 0.83165119]]\n",
            "Local rows on rank 0:\n",
            "[[0.71720376 0.14841768 0.62912215]\n",
            " [0.04950821 0.59649635 0.50013654]\n",
            " [0.03968691 0.68583757 0.83165119]]\n",
            "Gathered matrix (rank 0):\n",
            "[[0.71720376 0.14841768 0.62912215]\n",
            " [0.04950821 0.59649635 0.50013654]\n",
            " [0.03968691 0.68583757 0.83165119]]\n",
            "Gathered matrix == original matrix.\n"
          ]
        }
      ]
    },
    {
      "cell_type": "code",
      "source": [
        "!mpirun --allow-run-as-root -np 4 python mpi-task1.py"
      ],
      "metadata": {
        "id": "tsPfs3yeFJqj"
      },
      "execution_count": 30,
      "outputs": []
    },
    {
      "cell_type": "markdown",
      "source": [
        "##Task 2: Matrix Addition with Scatter and Gather\n",
        "####1.Generate two random matrices, A and B, where the dimensions (nxm) are user-defined.\n",
        "####2.Scatter the rows of A and B among MPI processes.\n",
        "####3.Each process adds its assigned rows of A and B.\n",
        "####4.Gather the results back to the master process.\n",
        "####5.Verify that the gathered matrix is the sum of A and B."
      ],
      "metadata": {
        "id": "FwzB35ikJYJA"
      }
    },
    {
      "cell_type": "code",
      "source": [
        "#%%writefile mpi-task2.py\n",
        "from mpi4py import MPI\n",
        "import numpy as np\n",
        "\n",
        "def generate_random_matrix(rows, cols):\n",
        "    return np.random.rand(rows, cols)\n",
        "\n",
        "def matrix_addition(A, B):\n",
        "    return A + B\n",
        "\n",
        "# MPI setup\n",
        "comm = MPI.COMM_WORLD\n",
        "rank = comm.Get_rank()\n",
        "size = comm.Get_size()\n",
        "\n",
        "rows = 3\n",
        "cols = 3\n",
        "\n",
        "# Master process generates two random matrices A and B\n",
        "if rank == 0:\n",
        "    A = generate_random_matrix(rows, cols)\n",
        "    B = generate_random_matrix(rows, cols)\n",
        "    print(\"Matrix A (rank 0):\")\n",
        "    print(A)\n",
        "    print(\"Matrix B (rank 0):\")\n",
        "    print(B)\n",
        "else:\n",
        "    A = None\n",
        "    B = None\n",
        "\n",
        "# Scatter process:\n",
        "local_rows_A = np.empty((rows // size, cols), dtype=np.float64)\n",
        "local_rows_B = np.empty((rows // size, cols), dtype=np.float64)\n",
        "comm.Scatter(A, local_rows_A, root=0)\n",
        "comm.Scatter(B, local_rows_B, root=0)\n",
        "\n",
        "local_result = matrix_addition(local_rows_A, local_rows_B)\n",
        "\n",
        "# Gather process:\n",
        "gathered_result = None\n",
        "if rank == 0:\n",
        "    gathered_result = np.empty((rows, cols), dtype=np.float64)\n",
        "\n",
        "comm.Gather(local_result, gathered_result, root=0)\n",
        "\n",
        "# Print results:\n",
        "if rank == 0:\n",
        "    expected_result = matrix_addition(A, B)\n",
        "    match = np.array_equal(gathered_result, expected_result)\n",
        "\n",
        "    print(\"C: \")\n",
        "    print(gathered_result)\n",
        "\n",
        "    if match:\n",
        "        print(\"C: the gathered matrix is the sum of Matrix A and Matrix B.\")\n",
        "    else:\n",
        "        print(\"The gathered matrix 'C' is not the sum.\")\n"
      ],
      "metadata": {
        "colab": {
          "base_uri": "https://localhost:8080/"
        },
        "id": "TDY2aKDhFk_t",
        "outputId": "597878da-2610-4a0e-bd6e-5c3a43fe01f6"
      },
      "execution_count": 33,
      "outputs": [
        {
          "output_type": "stream",
          "name": "stdout",
          "text": [
            "Matrix A (rank 0):\n",
            "[[0.40546317 0.02083776 0.33028951]\n",
            " [0.39360675 0.04463186 0.69018745]\n",
            " [0.93866435 0.01013458 0.14578521]]\n",
            "Matrix B (rank 0):\n",
            "[[0.83850059 0.82940833 0.30096155]\n",
            " [0.98590015 0.24860831 0.21806105]\n",
            " [0.70664615 0.82210424 0.42684646]]\n",
            "C: \n",
            "[[1.24396376 0.85024608 0.63125106]\n",
            " [1.37950691 0.29324017 0.9082485 ]\n",
            " [1.6453105  0.83223882 0.57263167]]\n",
            "C: the gathered matrix is the sum of Matrix A and Matrix B.\n"
          ]
        }
      ]
    },
    {
      "cell_type": "code",
      "source": [
        "!mpirun --allow-run-as-root -np 4 python mpi_example.cpp    #un-check first line code to run this part."
      ],
      "metadata": {
        "id": "k5O3mPH1J766"
      },
      "execution_count": 32,
      "outputs": []
    },
    {
      "cell_type": "code",
      "source": [],
      "metadata": {
        "id": "CaWW5iTCLHVj"
      },
      "execution_count": null,
      "outputs": []
    }
  ]
}